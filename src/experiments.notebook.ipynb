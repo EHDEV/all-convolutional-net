{
 "cells": [
  {
   "cell_type": "markdown",
   "metadata": {},
   "source": [
    "### All CNN, Strided CNN and CNN Pool Convolutional Networks Test\n",
    "\n"
   ]
  },
  {
   "cell_type": "code",
   "execution_count": null,
   "metadata": {
    "collapsed": false
   },
   "outputs": [],
   "source": [
    "from project_nn import all_CNN_C, ConvPool_CNN_C, Strided_CNN_C, train_nn\n",
    "from experiments import run_experiment"
   ]
  },
  {
   "cell_type": "markdown",
   "metadata": {},
   "source": [
    "###### All CNN\n",
    "___\n",
    "\n",
    "Parameters:  \n",
    "\n",
    "learning_rate=0.01  \n",
    "batch_size=64  \n",
    "num_epochs=350  \n",
    "filter_size=(3,3)  \n",
    "Filters=[96,96,96,192,192,192,192, 192, 10, 6, 10]  \n",
    "weight_decay (l2_reg)=.001  \n"
   ]
  },
  {
   "cell_type": "code",
   "execution_count": null,
   "metadata": {
    "collapsed": false
   },
   "outputs": [],
   "source": [
    "run_experiment(lr=0.01, batch_size=64, verbose=True, num_epochs=350, n_class=100, conv_arch=all_CNN_C)"
   ]
  },
  {
   "cell_type": "markdown",
   "metadata": {},
   "source": [
    "###### Strided CNN\n",
    "\n",
    "Parameters:  \n",
    "\n",
    "learning_rate=0.01  \n",
    "batch_size=64  \n",
    "num_epochs=350  \n",
    "filter_size=(3,3)  \n",
    "Filters=[96,96,96,192,192,192,192, 192, 10, 6, 10]  \n",
    "weight_decay (l2_reg)=.001  "
   ]
  },
  {
   "cell_type": "code",
   "execution_count": null,
   "metadata": {
    "collapsed": true
   },
   "outputs": [],
   "source": [
    "run_experiment(lr=0.01, batch_size=64, verbose=True, num_epochs=350, conv_arch=Strided_CNN_C)"
   ]
  },
  {
   "cell_type": "markdown",
   "metadata": {},
   "source": [
    "###### Conv Pool CNN\n",
    "\n",
    "Parameters:  \n",
    "\n",
    "learning_rate=0.01  \n",
    "batch_size=64  \n",
    "num_epochs=350  \n",
    "filter_size=(3,3)  \n",
    "Filters=[96,96,96,192,192,192,192, 192, 10, 6, 10]  \n",
    "weight_decay (l2_reg)=.001  "
   ]
  },
  {
   "cell_type": "code",
   "execution_count": null,
   "metadata": {
    "collapsed": true
   },
   "outputs": [],
   "source": [
    "run_experiment(lr=0.01, batch_size=64, verbose=True, num_epochs=350, conv_arch=ConvPool_CNN_C)"
   ]
  },
  {
   "cell_type": "markdown",
   "metadata": {},
   "source": [
    "###### Conv Pool CNN - Model A (Simple Baseline Model)\n",
    "\n",
    "Parameters:  \n",
    "\n",
    "learning_rate=0.01  \n",
    "batch_size=64  \n",
    "num_epochs=350  \n",
    "filter_size=(3,3)  \n",
    "Filters=[96,96,96,192,192,192,192, 192, 10, 6, 10]  \n",
    "weight_decay (l2_reg)=.001  "
   ]
  },
  {
   "cell_type": "code",
   "execution_count": null,
   "metadata": {
    "collapsed": true
   },
   "outputs": [],
   "source": [
    "run_experiment(lr=0.01, batch_size=64, verbose=True, num_epochs=350, conv_arch=ConvPool_CNN_A)"
   ]
  }
 ],
 "metadata": {
  "kernelspec": {
   "display_name": "Python 2",
   "language": "python",
   "name": "python2"
  },
  "language_info": {
   "codemirror_mode": {
    "name": "ipython",
    "version": 2
   },
   "file_extension": ".py",
   "mimetype": "text/x-python",
   "name": "python",
   "nbconvert_exporter": "python",
   "pygments_lexer": "ipython2",
   "version": "2.7.6"
  }
 },
 "nbformat": 4,
 "nbformat_minor": 0
}
