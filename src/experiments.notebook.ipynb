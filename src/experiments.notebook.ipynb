{
 "cells": [
  {
   "cell_type": "markdown",
   "metadata": {},
   "source": [
    "### All CNN, Strided CNN and CNN Pool Convolutional Networks Test\n",
    "\n"
   ]
  },
  {
   "cell_type": "code",
   "execution_count": 1,
   "metadata": {
    "collapsed": false
   },
   "outputs": [
    {
     "name": "stderr",
     "output_type": "stream",
     "text": [
      "Using gpu device 0: GRID K520 (CNMeM is disabled, cuDNN not available)\n",
      "/usr/local/lib/python2.7/dist-packages/theano/tensor/signal/downsample.py:6: UserWarning: downsample module has been moved to the theano.tensor.signal.pool module.\n",
      "  \"downsample module has been moved to the theano.tensor.signal.pool module.\")\n"
     ]
    }
   ],
   "source": [
    "from lasagne_project_nn import all_CNN_C, ConvPool_CNN_C, Strided_CNN_C, train_nn"
   ]
  },
  {
   "cell_type": "markdown",
   "metadata": {},
   "source": [
    "###### All CNN\n",
    "\n",
    "Parameters:  \n",
    "\n",
    "learning_rate=0.01  \n",
    "batch_size=64  \n",
    "num_epochs=350  \n",
    "filter_size=(3,3)  \n",
    "Filters=[96,96,96,192,192,192,192, 192, 10, 6, 10]  \n",
    "weight_decay (l2_reg)=.001  "
   ]
  },
  {
   "cell_type": "code",
   "execution_count": null,
   "metadata": {
    "collapsed": true
   },
   "outputs": [],
   "source": [
    "run_experiment(lr=0.01, batch_size=64, verbose=True, num_epochs=350, conv_arch=conv_architecture)"
   ]
  },
  {
   "cell_type": "markdown",
   "metadata": {},
   "source": [
    "###### Strided CNN\n",
    "\n",
    "Parameters:  \n",
    "\n",
    "learning_rate=0.01  \n",
    "batch_size=64  \n",
    "num_epochs=350  \n",
    "filter_size=(3,3)  \n",
    "Filters=[96,96,96,192,192,192,192, 192, 10, 6, 10]  \n",
    "weight_decay (l2_reg)=.001  "
   ]
  },
  {
   "cell_type": "code",
   "execution_count": null,
   "metadata": {
    "collapsed": true
   },
   "outputs": [],
   "source": [
    "run_experiment(lr=0.01, batch_size=64, verbose=True, num_epochs=350, conv_arch=Strided_CNN_C)"
   ]
  },
  {
   "cell_type": "markdown",
   "metadata": {},
   "source": [
    "###### Conv Pool CNN\n",
    "\n",
    "Parameters:  \n",
    "\n",
    "learning_rate=0.01  \n",
    "batch_size=64  \n",
    "num_epochs=350  \n",
    "filter_size=(3,3)  \n",
    "Filters=[96,96,96,192,192,192,192, 192, 10, 6, 10]  \n",
    "weight_decay (l2_reg)=.001  "
   ]
  },
  {
   "cell_type": "code",
   "execution_count": null,
   "metadata": {
    "collapsed": true
   },
   "outputs": [],
   "source": [
    "run_experiment(lr=0.01, batch_size=64, verbose=True, num_epochs=350, conv_arch=ConvPool_CNN_C)"
   ]
  }
 ],
 "metadata": {
  "kernelspec": {
   "display_name": "Python 2",
   "language": "python",
   "name": "python2"
  },
  "language_info": {
   "codemirror_mode": {
    "name": "ipython",
    "version": 2
   },
   "file_extension": ".py",
   "mimetype": "text/x-python",
   "name": "python",
   "nbconvert_exporter": "python",
   "pygments_lexer": "ipython2",
   "version": "2.7.6"
  }
 },
 "nbformat": 4,
 "nbformat_minor": 0
}
